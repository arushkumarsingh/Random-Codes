{
 "cells": [
  {
   "cell_type": "code",
   "execution_count": 3,
   "metadata": {},
   "outputs": [],
   "source": [
    "#importing libraries \n",
    "import numpy as np\n",
    "import pandas as pd\n",
    "import math\n",
    "import sympy as sym\n",
    "from sympy import symbols, exp\n",
    "import sys\n",
    "import scipy\n",
    "import scipy.linalg as la\n",
    "import numpy.linalg as nu\n",
    "from numpy.linalg import matrix_power as mpow\n",
    "np.set_printoptions(precision=7)\n",
    "np.set_printoptions(suppress=True)"
   ]
  },
  {
   "cell_type": "code",
   "execution_count": 4,
   "metadata": {},
   "outputs": [],
   "source": [
    "class prettyfloat(float):\n",
    "    def __repr__(self):\n",
    "        return \"%0.10f\" % self"
   ]
  },
  {
   "cell_type": "code",
   "execution_count": 5,
   "metadata": {},
   "outputs": [
    {
     "data": {
      "text/latex": [
       "$\\displaystyle E - 0.472 \\sin{\\left(E \\right)} - 1.62632124$"
      ],
      "text/plain": [
       "E - 0.472*sin(E) - 1.62632124"
      ]
     },
     "execution_count": 5,
     "metadata": {},
     "output_type": "execute_result"
    }
   ],
   "source": [
    "#Newton raphson\n",
    "x = symbols('x')\n",
    "E = symbols('E')\n",
    "e = 0.472\n",
    "M = 1.62632124\n",
    "fun =  E - e*sym.sin(E)-M\n",
    "diff = 1-e*sym.cos(E)\n",
    "guess = M;\n",
    "de = 10000;\n",
    "fun"
   ]
  },
  {
   "cell_type": "code",
   "execution_count": 6,
   "metadata": {},
   "outputs": [
    {
     "name": "stdout",
     "output_type": "stream",
     "text": [
      "1.62632124  \n",
      "-0.471272595139414   1.02619429461852  \n",
      "0.459243047452927\n",
      "\n",
      "\n",
      "2.08556428745293  \n",
      "0.0484109499051461   1.23238112579229  \n",
      "-0.0392824499596447\n",
      "\n",
      "\n",
      "2.04628183749328  \n",
      "0.000319286513041306   1.21606751287221  \n",
      "-0.000262556568333405\n",
      "\n",
      "\n",
      "2.04601928092495  \n",
      "1.44648381050771e-8   1.21595732584353  \n",
      "-1.18958434214278e-8\n",
      "\n",
      "\n",
      "2.04601926902911  \n",
      "1.66533453693773e-16   1.21595732085087  \n",
      "0\n",
      "\n",
      "\n"
     ]
    }
   ],
   "source": [
    "while abs(de)>1e-10:\n",
    "    print(guess,\" \")\n",
    "    f = fun.subs(E,guess)\n",
    "    fd = diff.subs(E,guess)\n",
    "    print(f,\" \",fd,\" \")\n",
    "    E2 = guess - f/fd\n",
    "    de = (E2-guess).evalf()\n",
    "    print(de)\n",
    "    guess = E2.evalf()\n",
    "    print(\"\\n\")"
   ]
  },
  {
   "cell_type": "code",
   "execution_count": null,
   "metadata": {},
   "outputs": [],
   "source": []
  }
 ],
 "metadata": {
  "kernelspec": {
   "display_name": "Python 3",
   "language": "python",
   "name": "python3"
  },
  "language_info": {
   "codemirror_mode": {
    "name": "ipython",
    "version": 3
   },
   "file_extension": ".py",
   "mimetype": "text/x-python",
   "name": "python",
   "nbconvert_exporter": "python",
   "pygments_lexer": "ipython3",
   "version": "3.8.3"
  }
 },
 "nbformat": 4,
 "nbformat_minor": 4
}
