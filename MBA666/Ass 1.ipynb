{
 "cells": [
  {
   "cell_type": "code",
   "execution_count": 171,
   "metadata": {},
   "outputs": [],
   "source": [
    "#importing libraries \n",
    "import numpy as np\n",
    "import math\n",
    "import sys\n",
    "import sympy as sym\n",
    "from sympy import symbols, exp\n",
    "import matplotlib.pyplot as plt \n",
    "\n",
    "%matplotlib inline\n",
    "\n",
    "#setting precision upto 10 digits\n",
    "np.set_printoptions(precision=10)\n",
    "np.set_printoptions(suppress=True)"
   ]
  },
  {
   "cell_type": "markdown",
   "metadata": {},
   "source": [
    "# Part A"
   ]
  },
  {
   "cell_type": "code",
   "execution_count": 172,
   "metadata": {},
   "outputs": [],
   "source": [
    "#defining functions\n",
    "w = symbols('w')               #w           \n",
    "a = symbols('a')               #a\n",
    "u = (-1*sym.exp(-a*w))         #u = utility function\n",
    "u_ = sym.diff(u,w)             #u'\n",
    "u__ = sym.diff(u_,w)           #u''\n",
    "A   = -1*u__/u_                #A = absolute risk aversion\n",
    "A_  = sym.diff(A,w)            #A'\n",
    "R   = -1*w*u__/u_              #R = relative risk aversion\n",
    "R_  = sym.diff(R,w)            #R'"
   ]
  },
  {
   "cell_type": "code",
   "execution_count": 173,
   "metadata": {},
   "outputs": [],
   "source": [
    "#input value of a \n",
    "aval  = 5"
   ]
  },
  {
   "cell_type": "code",
   "execution_count": 174,
   "metadata": {},
   "outputs": [
    {
     "data": {
      "text/plain": [
       "array([0.  , 0.01, 0.02, 0.03, 0.04, 0.05, 0.06, 0.07, 0.08, 0.09, 0.1 ,\n",
       "       0.11, 0.12, 0.13, 0.14, 0.15, 0.16, 0.17, 0.18, 0.19, 0.2 , 0.21,\n",
       "       0.22, 0.23, 0.24, 0.25, 0.26, 0.27, 0.28, 0.29, 0.3 , 0.31, 0.32,\n",
       "       0.33, 0.34, 0.35, 0.36, 0.37, 0.38, 0.39, 0.4 , 0.41, 0.42, 0.43,\n",
       "       0.44, 0.45, 0.46, 0.47, 0.48, 0.49, 0.5 , 0.51, 0.52, 0.53, 0.54,\n",
       "       0.55, 0.56, 0.57, 0.58, 0.59, 0.6 , 0.61, 0.62, 0.63, 0.64, 0.65,\n",
       "       0.66, 0.67, 0.68, 0.69, 0.7 , 0.71, 0.72, 0.73, 0.74, 0.75, 0.76,\n",
       "       0.77, 0.78, 0.79, 0.8 , 0.81, 0.82, 0.83, 0.84, 0.85, 0.86, 0.87,\n",
       "       0.88, 0.89, 0.9 , 0.91, 0.92, 0.93, 0.94, 0.95, 0.96, 0.97, 0.98,\n",
       "       0.99, 1.  , 1.01, 1.02, 1.03, 1.04, 1.05, 1.06, 1.07, 1.08, 1.09,\n",
       "       1.1 , 1.11, 1.12, 1.13, 1.14, 1.15, 1.16, 1.17, 1.18, 1.19, 1.2 ,\n",
       "       1.21, 1.22, 1.23, 1.24, 1.25, 1.26, 1.27, 1.28, 1.29, 1.3 , 1.31,\n",
       "       1.32, 1.33, 1.34, 1.35, 1.36, 1.37, 1.38, 1.39, 1.4 , 1.41, 1.42,\n",
       "       1.43, 1.44, 1.45, 1.46, 1.47, 1.48, 1.49, 1.5 , 1.51, 1.52, 1.53,\n",
       "       1.54, 1.55, 1.56, 1.57, 1.58, 1.59, 1.6 , 1.61, 1.62, 1.63, 1.64,\n",
       "       1.65, 1.66, 1.67, 1.68, 1.69, 1.7 , 1.71, 1.72, 1.73, 1.74, 1.75,\n",
       "       1.76, 1.77, 1.78, 1.79, 1.8 , 1.81, 1.82, 1.83, 1.84, 1.85, 1.86,\n",
       "       1.87, 1.88, 1.89, 1.9 , 1.91, 1.92, 1.93, 1.94, 1.95, 1.96, 1.97,\n",
       "       1.98, 1.99, 2.  , 2.01, 2.02, 2.03, 2.04, 2.05, 2.06, 2.07, 2.08,\n",
       "       2.09, 2.1 , 2.11, 2.12, 2.13, 2.14, 2.15, 2.16, 2.17, 2.18, 2.19,\n",
       "       2.2 , 2.21, 2.22, 2.23, 2.24, 2.25, 2.26, 2.27, 2.28, 2.29, 2.3 ,\n",
       "       2.31, 2.32, 2.33, 2.34, 2.35, 2.36, 2.37, 2.38, 2.39, 2.4 , 2.41,\n",
       "       2.42, 2.43, 2.44, 2.45, 2.46, 2.47, 2.48, 2.49, 2.5 , 2.51, 2.52,\n",
       "       2.53, 2.54, 2.55, 2.56, 2.57, 2.58, 2.59, 2.6 , 2.61, 2.62, 2.63,\n",
       "       2.64, 2.65, 2.66, 2.67, 2.68, 2.69, 2.7 , 2.71, 2.72, 2.73, 2.74,\n",
       "       2.75, 2.76, 2.77, 2.78, 2.79, 2.8 , 2.81, 2.82, 2.83, 2.84, 2.85,\n",
       "       2.86, 2.87, 2.88, 2.89, 2.9 , 2.91, 2.92, 2.93, 2.94, 2.95, 2.96,\n",
       "       2.97, 2.98, 2.99, 3.  , 3.01, 3.02, 3.03, 3.04, 3.05, 3.06, 3.07,\n",
       "       3.08, 3.09, 3.1 , 3.11, 3.12, 3.13, 3.14, 3.15, 3.16, 3.17, 3.18,\n",
       "       3.19, 3.2 , 3.21, 3.22, 3.23, 3.24, 3.25, 3.26, 3.27, 3.28, 3.29,\n",
       "       3.3 , 3.31, 3.32, 3.33, 3.34, 3.35, 3.36, 3.37, 3.38, 3.39, 3.4 ,\n",
       "       3.41, 3.42, 3.43, 3.44, 3.45, 3.46, 3.47, 3.48, 3.49, 3.5 , 3.51,\n",
       "       3.52, 3.53, 3.54, 3.55, 3.56, 3.57, 3.58, 3.59, 3.6 , 3.61, 3.62,\n",
       "       3.63, 3.64, 3.65, 3.66, 3.67, 3.68, 3.69, 3.7 , 3.71, 3.72, 3.73,\n",
       "       3.74, 3.75, 3.76, 3.77, 3.78, 3.79, 3.8 , 3.81, 3.82, 3.83, 3.84,\n",
       "       3.85, 3.86, 3.87, 3.88, 3.89, 3.9 , 3.91, 3.92, 3.93, 3.94, 3.95,\n",
       "       3.96, 3.97, 3.98, 3.99, 4.  , 4.01, 4.02, 4.03, 4.04, 4.05, 4.06,\n",
       "       4.07, 4.08, 4.09, 4.1 , 4.11, 4.12, 4.13, 4.14, 4.15, 4.16, 4.17,\n",
       "       4.18, 4.19, 4.2 , 4.21, 4.22, 4.23, 4.24, 4.25, 4.26, 4.27, 4.28,\n",
       "       4.29, 4.3 , 4.31, 4.32, 4.33, 4.34, 4.35, 4.36, 4.37, 4.38, 4.39,\n",
       "       4.4 , 4.41, 4.42, 4.43, 4.44, 4.45, 4.46, 4.47, 4.48, 4.49, 4.5 ,\n",
       "       4.51, 4.52, 4.53, 4.54, 4.55, 4.56, 4.57, 4.58, 4.59, 4.6 , 4.61,\n",
       "       4.62, 4.63, 4.64, 4.65, 4.66, 4.67, 4.68, 4.69, 4.7 , 4.71, 4.72,\n",
       "       4.73, 4.74, 4.75, 4.76, 4.77, 4.78, 4.79, 4.8 , 4.81, 4.82, 4.83,\n",
       "       4.84, 4.85, 4.86, 4.87, 4.88, 4.89, 4.9 , 4.91, 4.92, 4.93, 4.94,\n",
       "       4.95, 4.96, 4.97, 4.98, 4.99, 5.  , 5.01, 5.02, 5.03, 5.04, 5.05,\n",
       "       5.06, 5.07, 5.08, 5.09, 5.1 , 5.11, 5.12, 5.13, 5.14, 5.15, 5.16,\n",
       "       5.17, 5.18, 5.19, 5.2 , 5.21, 5.22, 5.23, 5.24, 5.25, 5.26, 5.27,\n",
       "       5.28, 5.29, 5.3 , 5.31, 5.32, 5.33, 5.34, 5.35, 5.36, 5.37, 5.38,\n",
       "       5.39, 5.4 , 5.41, 5.42, 5.43, 5.44, 5.45, 5.46, 5.47, 5.48, 5.49,\n",
       "       5.5 , 5.51, 5.52, 5.53, 5.54, 5.55, 5.56, 5.57, 5.58, 5.59, 5.6 ,\n",
       "       5.61, 5.62, 5.63, 5.64, 5.65, 5.66, 5.67, 5.68, 5.69, 5.7 , 5.71,\n",
       "       5.72, 5.73, 5.74, 5.75, 5.76, 5.77, 5.78, 5.79, 5.8 , 5.81, 5.82,\n",
       "       5.83, 5.84, 5.85, 5.86, 5.87, 5.88, 5.89, 5.9 , 5.91, 5.92, 5.93,\n",
       "       5.94, 5.95, 5.96, 5.97, 5.98, 5.99, 6.  , 6.01, 6.02, 6.03, 6.04,\n",
       "       6.05, 6.06, 6.07, 6.08, 6.09, 6.1 , 6.11, 6.12, 6.13, 6.14, 6.15,\n",
       "       6.16, 6.17, 6.18, 6.19, 6.2 , 6.21, 6.22, 6.23, 6.24, 6.25, 6.26,\n",
       "       6.27, 6.28, 6.29, 6.3 , 6.31, 6.32, 6.33, 6.34, 6.35, 6.36, 6.37,\n",
       "       6.38, 6.39, 6.4 , 6.41, 6.42, 6.43, 6.44, 6.45, 6.46, 6.47, 6.48,\n",
       "       6.49, 6.5 , 6.51, 6.52, 6.53, 6.54, 6.55, 6.56, 6.57, 6.58, 6.59,\n",
       "       6.6 , 6.61, 6.62, 6.63, 6.64, 6.65, 6.66, 6.67, 6.68, 6.69, 6.7 ,\n",
       "       6.71, 6.72, 6.73, 6.74, 6.75, 6.76, 6.77, 6.78, 6.79, 6.8 , 6.81,\n",
       "       6.82, 6.83, 6.84, 6.85, 6.86, 6.87, 6.88, 6.89, 6.9 , 6.91, 6.92,\n",
       "       6.93, 6.94, 6.95, 6.96, 6.97, 6.98, 6.99, 7.  , 7.01, 7.02, 7.03,\n",
       "       7.04, 7.05, 7.06, 7.07, 7.08, 7.09, 7.1 , 7.11, 7.12, 7.13, 7.14,\n",
       "       7.15, 7.16, 7.17, 7.18, 7.19, 7.2 , 7.21, 7.22, 7.23, 7.24, 7.25,\n",
       "       7.26, 7.27, 7.28, 7.29, 7.3 , 7.31, 7.32, 7.33, 7.34, 7.35, 7.36,\n",
       "       7.37, 7.38, 7.39, 7.4 , 7.41, 7.42, 7.43, 7.44, 7.45, 7.46, 7.47,\n",
       "       7.48, 7.49, 7.5 , 7.51, 7.52, 7.53, 7.54, 7.55, 7.56, 7.57, 7.58,\n",
       "       7.59, 7.6 , 7.61, 7.62, 7.63, 7.64, 7.65, 7.66, 7.67, 7.68, 7.69,\n",
       "       7.7 , 7.71, 7.72, 7.73, 7.74, 7.75, 7.76, 7.77, 7.78, 7.79, 7.8 ,\n",
       "       7.81, 7.82, 7.83, 7.84, 7.85, 7.86, 7.87, 7.88, 7.89, 7.9 , 7.91,\n",
       "       7.92, 7.93, 7.94, 7.95, 7.96, 7.97, 7.98, 7.99, 8.  , 8.01, 8.02,\n",
       "       8.03, 8.04, 8.05, 8.06, 8.07, 8.08, 8.09, 8.1 , 8.11, 8.12, 8.13,\n",
       "       8.14, 8.15, 8.16, 8.17, 8.18, 8.19, 8.2 , 8.21, 8.22, 8.23, 8.24,\n",
       "       8.25, 8.26, 8.27, 8.28, 8.29, 8.3 , 8.31, 8.32, 8.33, 8.34, 8.35,\n",
       "       8.36, 8.37, 8.38, 8.39, 8.4 , 8.41, 8.42, 8.43, 8.44, 8.45, 8.46,\n",
       "       8.47, 8.48, 8.49, 8.5 , 8.51, 8.52, 8.53, 8.54, 8.55, 8.56, 8.57,\n",
       "       8.58, 8.59, 8.6 , 8.61, 8.62, 8.63, 8.64, 8.65, 8.66, 8.67, 8.68,\n",
       "       8.69, 8.7 , 8.71, 8.72, 8.73, 8.74, 8.75, 8.76, 8.77, 8.78, 8.79,\n",
       "       8.8 , 8.81, 8.82, 8.83, 8.84, 8.85, 8.86, 8.87, 8.88, 8.89, 8.9 ,\n",
       "       8.91, 8.92, 8.93, 8.94, 8.95, 8.96, 8.97, 8.98, 8.99, 9.  , 9.01,\n",
       "       9.02, 9.03, 9.04, 9.05, 9.06, 9.07, 9.08, 9.09, 9.1 , 9.11, 9.12,\n",
       "       9.13, 9.14, 9.15, 9.16, 9.17, 9.18, 9.19, 9.2 , 9.21, 9.22, 9.23,\n",
       "       9.24, 9.25, 9.26, 9.27, 9.28, 9.29, 9.3 , 9.31, 9.32, 9.33, 9.34,\n",
       "       9.35, 9.36, 9.37, 9.38, 9.39, 9.4 , 9.41, 9.42, 9.43, 9.44, 9.45,\n",
       "       9.46, 9.47, 9.48, 9.49, 9.5 , 9.51, 9.52, 9.53, 9.54, 9.55, 9.56,\n",
       "       9.57, 9.58, 9.59, 9.6 , 9.61, 9.62, 9.63, 9.64, 9.65, 9.66, 9.67,\n",
       "       9.68, 9.69, 9.7 , 9.71, 9.72, 9.73, 9.74, 9.75, 9.76, 9.77, 9.78,\n",
       "       9.79, 9.8 , 9.81, 9.82, 9.83, 9.84, 9.85, 9.86, 9.87, 9.88, 9.89,\n",
       "       9.9 , 9.91, 9.92, 9.93, 9.94, 9.95, 9.96, 9.97, 9.98, 9.99])"
      ]
     },
     "execution_count": 174,
     "metadata": {},
     "output_type": "execute_result"
    }
   ],
   "source": [
    "#let w varies from 1 to 11, so matrix for w will be\n",
    "Wm = np.arange(0,10,0.01,dtype=float)\n",
    "#we will calculate u ,u' u'' etc at each w, thus size of matrix will be 10001 for them\n",
    "Um   = np.zeros(1000,dtype=float)              #u                  \n",
    "Um_  = np.zeros(1000,dtype=float)              #u'\n",
    "Um__ = np.zeros(1000,dtype=float)              #u''\n",
    "Am   = np.zeros(1000,dtype=float)              #A \n",
    "Am_  = np.zeros(1000,dtype=float)              #A'\n",
    "Rm   = np.zeros(1000,dtype=float)              #R \n",
    "Rm_  = np.zeros(1000,dtype=float)              #R'\n",
    "Wm"
   ]
  },
  {
   "cell_type": "code",
   "execution_count": 175,
   "metadata": {},
   "outputs": [
    {
     "data": {
      "text/plain": [
       "array([ 0.  ,  0.05,  0.1 ,  0.15,  0.2 ,  0.25,  0.3 ,  0.35,  0.4 ,\n",
       "        0.45,  0.5 ,  0.55,  0.6 ,  0.65,  0.7 ,  0.75,  0.8 ,  0.85,\n",
       "        0.9 ,  0.95,  1.  ,  1.05,  1.1 ,  1.15,  1.2 ,  1.25,  1.3 ,\n",
       "        1.35,  1.4 ,  1.45,  1.5 ,  1.55,  1.6 ,  1.65,  1.7 ,  1.75,\n",
       "        1.8 ,  1.85,  1.9 ,  1.95,  2.  ,  2.05,  2.1 ,  2.15,  2.2 ,\n",
       "        2.25,  2.3 ,  2.35,  2.4 ,  2.45,  2.5 ,  2.55,  2.6 ,  2.65,\n",
       "        2.7 ,  2.75,  2.8 ,  2.85,  2.9 ,  2.95,  3.  ,  3.05,  3.1 ,\n",
       "        3.15,  3.2 ,  3.25,  3.3 ,  3.35,  3.4 ,  3.45,  3.5 ,  3.55,\n",
       "        3.6 ,  3.65,  3.7 ,  3.75,  3.8 ,  3.85,  3.9 ,  3.95,  4.  ,\n",
       "        4.05,  4.1 ,  4.15,  4.2 ,  4.25,  4.3 ,  4.35,  4.4 ,  4.45,\n",
       "        4.5 ,  4.55,  4.6 ,  4.65,  4.7 ,  4.75,  4.8 ,  4.85,  4.9 ,\n",
       "        4.95,  5.  ,  5.05,  5.1 ,  5.15,  5.2 ,  5.25,  5.3 ,  5.35,\n",
       "        5.4 ,  5.45,  5.5 ,  5.55,  5.6 ,  5.65,  5.7 ,  5.75,  5.8 ,\n",
       "        5.85,  5.9 ,  5.95,  6.  ,  6.05,  6.1 ,  6.15,  6.2 ,  6.25,\n",
       "        6.3 ,  6.35,  6.4 ,  6.45,  6.5 ,  6.55,  6.6 ,  6.65,  6.7 ,\n",
       "        6.75,  6.8 ,  6.85,  6.9 ,  6.95,  7.  ,  7.05,  7.1 ,  7.15,\n",
       "        7.2 ,  7.25,  7.3 ,  7.35,  7.4 ,  7.45,  7.5 ,  7.55,  7.6 ,\n",
       "        7.65,  7.7 ,  7.75,  7.8 ,  7.85,  7.9 ,  7.95,  8.  ,  8.05,\n",
       "        8.1 ,  8.15,  8.2 ,  8.25,  8.3 ,  8.35,  8.4 ,  8.45,  8.5 ,\n",
       "        8.55,  8.6 ,  8.65,  8.7 ,  8.75,  8.8 ,  8.85,  8.9 ,  8.95,\n",
       "        9.  ,  9.05,  9.1 ,  9.15,  9.2 ,  9.25,  9.3 ,  9.35,  9.4 ,\n",
       "        9.45,  9.5 ,  9.55,  9.6 ,  9.65,  9.7 ,  9.75,  9.8 ,  9.85,\n",
       "        9.9 ,  9.95, 10.  , 10.05, 10.1 , 10.15, 10.2 , 10.25, 10.3 ,\n",
       "       10.35, 10.4 , 10.45, 10.5 , 10.55, 10.6 , 10.65, 10.7 , 10.75,\n",
       "       10.8 , 10.85, 10.9 , 10.95, 11.  , 11.05, 11.1 , 11.15, 11.2 ,\n",
       "       11.25, 11.3 , 11.35, 11.4 , 11.45, 11.5 , 11.55, 11.6 , 11.65,\n",
       "       11.7 , 11.75, 11.8 , 11.85, 11.9 , 11.95, 12.  , 12.05, 12.1 ,\n",
       "       12.15, 12.2 , 12.25, 12.3 , 12.35, 12.4 , 12.45, 12.5 , 12.55,\n",
       "       12.6 , 12.65, 12.7 , 12.75, 12.8 , 12.85, 12.9 , 12.95, 13.  ,\n",
       "       13.05, 13.1 , 13.15, 13.2 , 13.25, 13.3 , 13.35, 13.4 , 13.45,\n",
       "       13.5 , 13.55, 13.6 , 13.65, 13.7 , 13.75, 13.8 , 13.85, 13.9 ,\n",
       "       13.95, 14.  , 14.05, 14.1 , 14.15, 14.2 , 14.25, 14.3 , 14.35,\n",
       "       14.4 , 14.45, 14.5 , 14.55, 14.6 , 14.65, 14.7 , 14.75, 14.8 ,\n",
       "       14.85, 14.9 , 14.95, 15.  , 15.05, 15.1 , 15.15, 15.2 , 15.25,\n",
       "       15.3 , 15.35, 15.4 , 15.45, 15.5 , 15.55, 15.6 , 15.65, 15.7 ,\n",
       "       15.75, 15.8 , 15.85, 15.9 , 15.95, 16.  , 16.05, 16.1 , 16.15,\n",
       "       16.2 , 16.25, 16.3 , 16.35, 16.4 , 16.45, 16.5 , 16.55, 16.6 ,\n",
       "       16.65, 16.7 , 16.75, 16.8 , 16.85, 16.9 , 16.95, 17.  , 17.05,\n",
       "       17.1 , 17.15, 17.2 , 17.25, 17.3 , 17.35, 17.4 , 17.45, 17.5 ,\n",
       "       17.55, 17.6 , 17.65, 17.7 , 17.75, 17.8 , 17.85, 17.9 , 17.95,\n",
       "       18.  , 18.05, 18.1 , 18.15, 18.2 , 18.25, 18.3 , 18.35, 18.4 ,\n",
       "       18.45, 18.5 , 18.55, 18.6 , 18.65, 18.7 , 18.75, 18.8 , 18.85,\n",
       "       18.9 , 18.95, 19.  , 19.05, 19.1 , 19.15, 19.2 , 19.25, 19.3 ,\n",
       "       19.35, 19.4 , 19.45, 19.5 , 19.55, 19.6 , 19.65, 19.7 , 19.75,\n",
       "       19.8 , 19.85, 19.9 , 19.95, 20.  , 20.05, 20.1 , 20.15, 20.2 ,\n",
       "       20.25, 20.3 , 20.35, 20.4 , 20.45, 20.5 , 20.55, 20.6 , 20.65,\n",
       "       20.7 , 20.75, 20.8 , 20.85, 20.9 , 20.95, 21.  , 21.05, 21.1 ,\n",
       "       21.15, 21.2 , 21.25, 21.3 , 21.35, 21.4 , 21.45, 21.5 , 21.55,\n",
       "       21.6 , 21.65, 21.7 , 21.75, 21.8 , 21.85, 21.9 , 21.95, 22.  ,\n",
       "       22.05, 22.1 , 22.15, 22.2 , 22.25, 22.3 , 22.35, 22.4 , 22.45,\n",
       "       22.5 , 22.55, 22.6 , 22.65, 22.7 , 22.75, 22.8 , 22.85, 22.9 ,\n",
       "       22.95, 23.  , 23.05, 23.1 , 23.15, 23.2 , 23.25, 23.3 , 23.35,\n",
       "       23.4 , 23.45, 23.5 , 23.55, 23.6 , 23.65, 23.7 , 23.75, 23.8 ,\n",
       "       23.85, 23.9 , 23.95, 24.  , 24.05, 24.1 , 24.15, 24.2 , 24.25,\n",
       "       24.3 , 24.35, 24.4 , 24.45, 24.5 , 24.55, 24.6 , 24.65, 24.7 ,\n",
       "       24.75, 24.8 , 24.85, 24.9 , 24.95, 25.  , 25.05, 25.1 , 25.15,\n",
       "       25.2 , 25.25, 25.3 , 25.35, 25.4 , 25.45, 25.5 , 25.55, 25.6 ,\n",
       "       25.65, 25.7 , 25.75, 25.8 , 25.85, 25.9 , 25.95, 26.  , 26.05,\n",
       "       26.1 , 26.15, 26.2 , 26.25, 26.3 , 26.35, 26.4 , 26.45, 26.5 ,\n",
       "       26.55, 26.6 , 26.65, 26.7 , 26.75, 26.8 , 26.85, 26.9 , 26.95,\n",
       "       27.  , 27.05, 27.1 , 27.15, 27.2 , 27.25, 27.3 , 27.35, 27.4 ,\n",
       "       27.45, 27.5 , 27.55, 27.6 , 27.65, 27.7 , 27.75, 27.8 , 27.85,\n",
       "       27.9 , 27.95, 28.  , 28.05, 28.1 , 28.15, 28.2 , 28.25, 28.3 ,\n",
       "       28.35, 28.4 , 28.45, 28.5 , 28.55, 28.6 , 28.65, 28.7 , 28.75,\n",
       "       28.8 , 28.85, 28.9 , 28.95, 29.  , 29.05, 29.1 , 29.15, 29.2 ,\n",
       "       29.25, 29.3 , 29.35, 29.4 , 29.45, 29.5 , 29.55, 29.6 , 29.65,\n",
       "       29.7 , 29.75, 29.8 , 29.85, 29.9 , 29.95, 30.  , 30.05, 30.1 ,\n",
       "       30.15, 30.2 , 30.25, 30.3 , 30.35, 30.4 , 30.45, 30.5 , 30.55,\n",
       "       30.6 , 30.65, 30.7 , 30.75, 30.8 , 30.85, 30.9 , 30.95, 31.  ,\n",
       "       31.05, 31.1 , 31.15, 31.2 , 31.25, 31.3 , 31.35, 31.4 , 31.45,\n",
       "       31.5 , 31.55, 31.6 , 31.65, 31.7 , 31.75, 31.8 , 31.85, 31.9 ,\n",
       "       31.95, 32.  , 32.05, 32.1 , 32.15, 32.2 , 32.25, 32.3 , 32.35,\n",
       "       32.4 , 32.45, 32.5 , 32.55, 32.6 , 32.65, 32.7 , 32.75, 32.8 ,\n",
       "       32.85, 32.9 , 32.95, 33.  , 33.05, 33.1 , 33.15, 33.2 , 33.25,\n",
       "       33.3 , 33.35, 33.4 , 33.45, 33.5 , 33.55, 33.6 , 33.65, 33.7 ,\n",
       "       33.75, 33.8 , 33.85, 33.9 , 33.95, 34.  , 34.05, 34.1 , 34.15,\n",
       "       34.2 , 34.25, 34.3 , 34.35, 34.4 , 34.45, 34.5 , 34.55, 34.6 ,\n",
       "       34.65, 34.7 , 34.75, 34.8 , 34.85, 34.9 , 34.95, 35.  , 35.05,\n",
       "       35.1 , 35.15, 35.2 , 35.25, 35.3 , 35.35, 35.4 , 35.45, 35.5 ,\n",
       "       35.55, 35.6 , 35.65, 35.7 , 35.75, 35.8 , 35.85, 35.9 , 35.95,\n",
       "       36.  , 36.05, 36.1 , 36.15, 36.2 , 36.25, 36.3 , 36.35, 36.4 ,\n",
       "       36.45, 36.5 , 36.55, 36.6 , 36.65, 36.7 , 36.75, 36.8 , 36.85,\n",
       "       36.9 , 36.95, 37.  , 37.05, 37.1 , 37.15, 37.2 , 37.25, 37.3 ,\n",
       "       37.35, 37.4 , 37.45, 37.5 , 37.55, 37.6 , 37.65, 37.7 , 37.75,\n",
       "       37.8 , 37.85, 37.9 , 37.95, 38.  , 38.05, 38.1 , 38.15, 38.2 ,\n",
       "       38.25, 38.3 , 38.35, 38.4 , 38.45, 38.5 , 38.55, 38.6 , 38.65,\n",
       "       38.7 , 38.75, 38.8 , 38.85, 38.9 , 38.95, 39.  , 39.05, 39.1 ,\n",
       "       39.15, 39.2 , 39.25, 39.3 , 39.35, 39.4 , 39.45, 39.5 , 39.55,\n",
       "       39.6 , 39.65, 39.7 , 39.75, 39.8 , 39.85, 39.9 , 39.95, 40.  ,\n",
       "       40.05, 40.1 , 40.15, 40.2 , 40.25, 40.3 , 40.35, 40.4 , 40.45,\n",
       "       40.5 , 40.55, 40.6 , 40.65, 40.7 , 40.75, 40.8 , 40.85, 40.9 ,\n",
       "       40.95, 41.  , 41.05, 41.1 , 41.15, 41.2 , 41.25, 41.3 , 41.35,\n",
       "       41.4 , 41.45, 41.5 , 41.55, 41.6 , 41.65, 41.7 , 41.75, 41.8 ,\n",
       "       41.85, 41.9 , 41.95, 42.  , 42.05, 42.1 , 42.15, 42.2 , 42.25,\n",
       "       42.3 , 42.35, 42.4 , 42.45, 42.5 , 42.55, 42.6 , 42.65, 42.7 ,\n",
       "       42.75, 42.8 , 42.85, 42.9 , 42.95, 43.  , 43.05, 43.1 , 43.15,\n",
       "       43.2 , 43.25, 43.3 , 43.35, 43.4 , 43.45, 43.5 , 43.55, 43.6 ,\n",
       "       43.65, 43.7 , 43.75, 43.8 , 43.85, 43.9 , 43.95, 44.  , 44.05,\n",
       "       44.1 , 44.15, 44.2 , 44.25, 44.3 , 44.35, 44.4 , 44.45, 44.5 ,\n",
       "       44.55, 44.6 , 44.65, 44.7 , 44.75, 44.8 , 44.85, 44.9 , 44.95,\n",
       "       45.  , 45.05, 45.1 , 45.15, 45.2 , 45.25, 45.3 , 45.35, 45.4 ,\n",
       "       45.45, 45.5 , 45.55, 45.6 , 45.65, 45.7 , 45.75, 45.8 , 45.85,\n",
       "       45.9 , 45.95, 46.  , 46.05, 46.1 , 46.15, 46.2 , 46.25, 46.3 ,\n",
       "       46.35, 46.4 , 46.45, 46.5 , 46.55, 46.6 , 46.65, 46.7 , 46.75,\n",
       "       46.8 , 46.85, 46.9 , 46.95, 47.  , 47.05, 47.1 , 47.15, 47.2 ,\n",
       "       47.25, 47.3 , 47.35, 47.4 , 47.45, 47.5 , 47.55, 47.6 , 47.65,\n",
       "       47.7 , 47.75, 47.8 , 47.85, 47.9 , 47.95, 48.  , 48.05, 48.1 ,\n",
       "       48.15, 48.2 , 48.25, 48.3 , 48.35, 48.4 , 48.45, 48.5 , 48.55,\n",
       "       48.6 , 48.65, 48.7 , 48.75, 48.8 , 48.85, 48.9 , 48.95, 49.  ,\n",
       "       49.05, 49.1 , 49.15, 49.2 , 49.25, 49.3 , 49.35, 49.4 , 49.45,\n",
       "       49.5 , 49.55, 49.6 , 49.65, 49.7 , 49.75, 49.8 , 49.85, 49.9 ,\n",
       "       49.95])"
      ]
     },
     "execution_count": 175,
     "metadata": {},
     "output_type": "execute_result"
    }
   ],
   "source": [
    "#calulating disreate values at each w\n",
    "for i in range(1000):\n",
    "    Um[i]   = u.subs({w:Wm[i],a:aval})\n",
    "    Um_[i]  = u_.subs({w:Wm[i],a:aval})\n",
    "    Um__[i] = u__.subs({w:Wm[i],a:aval})\n",
    "    Am[i]   =  A.subs({w:Wm[i],a:aval})\n",
    "    Am_[i]  =  A_.subs({w:Wm[i],a:aval})\n",
    "    Rm[i]   =  R.subs({w:Wm[i],a:aval})\n",
    "    Rm_[i]  =  R_.subs({w:Wm[i],a:aval})\n",
    "    \n",
    "Rm"
   ]
  },
  {
   "cell_type": "code",
   "execution_count": 176,
   "metadata": {},
   "outputs": [
    {
     "data": {
      "image/png": "[encoded data removed]",
      "text/plain": [
       "<Figure size 432x288 with 1 Axes>"
      ]
     },
     "metadata": {
      "needs_background": "light"
     },
     "output_type": "display_data"
    }
   ],
   "source": [
    "#plotting with matplotlib \n",
    "plt.plot(Wm,Um,color='r', label='u')\n",
    "\n",
    "\n",
    "plt.xlabel(\"w\")\n",
    "plt.ylabel(\"w\")\n",
    "#plt.title(\"u,u',u'',a,a',r,r' on same graph\")\n",
    "#plt.legend()\n",
    "plt.show()"
   ]
  },
  {
   "cell_type": "code",
   "execution_count": 177,
   "metadata": {},
   "outputs": [
    {
     "data": {
      "image/png": "[encoded data removed]",
      "text/plain": [
       "<Figure size 432x288 with 6 Axes>"
      ]
     },
     "metadata": {
      "needs_background": "light"
     },
     "output_type": "display_data"
    }
   ],
   "source": [
    "figure, axis = plt.subplots(3, 2)\n",
    "axis[0, 0].plot(Wm,Um_,color='g')\n",
    "axis[0, 0].set_title(\"u\\'\")\n",
    "  \n",
    "\n",
    "axis[0, 1].plot(Wm,Um__,color='b')\n",
    "axis[0, 1].set_title(\"u\\'\\'\")\n",
    "  \n",
    "# For Tangent Function\n",
    "axis[1, 0].plot(Wm,Am,color='c')\n",
    "axis[1, 0].set_title(\"a\")\n",
    "\n",
    "axis[1, 1].plot(Wm,Am_,color='m')\n",
    "axis[1, 1].set_title(\"a\\'\")\n",
    "\n",
    "axis[2, 0].plot(Wm,Rm,color='y')\n",
    "axis[2, 0].set_title(\"r\")\n",
    "\n",
    "axis[2, 1].plot(Wm,Rm_,color='k')\n",
    "axis[2, 1].set_title(\"r\\'\")\n",
    "  \n",
    "# Combine all the operations and display\n",
    "figure.tight_layout()\n",
    "plt.show()"
   ]
  },
  {
   "cell_type": "markdown",
   "metadata": {},
   "source": [
    "# Part B"
   ]
  },
  {
   "cell_type": "code",
   "execution_count": 199,
   "metadata": {},
   "outputs": [
    {
     "data": {
      "text/latex": [
       "$\\displaystyle \\log{\\left(w \\right)}$"
      ],
      "text/plain": [
       "log(w)"
      ]
     },
     "execution_count": 199,
     "metadata": {},
     "output_type": "execute_result"
    }
   ],
   "source": [
    "#defining functions\n",
    "w = symbols('w')               #w           \n",
    "u = (sym.log(w))               #u = utility function\n",
    "u_ = sym.diff(u,w)             #u'\n",
    "u__ = sym.diff(u_,w)           #u''\n",
    "A   = -1*u__/u_                #A = absolute risk aversion\n",
    "A_  = sym.diff(A,w)            #A'\n",
    "R   = -1*w*u__/u_              #R = relative risk aversion\n",
    "R_  = sym.diff(R,w)            #R'\n",
    "u"
   ]
  },
  {
   "cell_type": "code",
   "execution_count": 200,
   "metadata": {},
   "outputs": [
    {
     "data": {
      "text/plain": [
       "(499,)"
      ]
     },
     "execution_count": 200,
     "metadata": {},
     "output_type": "execute_result"
    }
   ],
   "source": [
    "#let w varies from 1 to 11, so matrix for w will be\n",
    "Wm = np.arange(0.01,5,0.01,dtype=float)\n",
    "#we will calculate u ,u' u'' etc at each w, thus size of matrix will be 10001 for them\n",
    "Um   = np.zeros(499,dtype=float)              #u                  \n",
    "Um_  = np.zeros(499,dtype=float)              #u'\n",
    "Um__ = np.zeros(499,dtype=float)              #u''\n",
    "Am   = np.zeros(499,dtype=float)              #A \n",
    "Am_  = np.zeros(499,dtype=float)              #A'\n",
    "Rm   = np.zeros(499,dtype=float)              #R \n",
    "Rm_  = np.zeros(499,dtype=float)              #R'\n",
    "Wm.shape"
   ]
  },
  {
   "cell_type": "code",
   "execution_count": 201,
   "metadata": {},
   "outputs": [
    {
     "data": {
      "text/plain": [
       "array([1., 1., 1., 1., 1., 1., 1., 1., 1., 1., 1., 1., 1., 1., 1., 1., 1.,\n",
       "       1., 1., 1., 1., 1., 1., 1., 1., 1., 1., 1., 1., 1., 1., 1., 1., 1.,\n",
       "       1., 1., 1., 1., 1., 1., 1., 1., 1., 1., 1., 1., 1., 1., 1., 1., 1.,\n",
       "       1., 1., 1., 1., 1., 1., 1., 1., 1., 1., 1., 1., 1., 1., 1., 1., 1.,\n",
       "       1., 1., 1., 1., 1., 1., 1., 1., 1., 1., 1., 1., 1., 1., 1., 1., 1.,\n",
       "       1., 1., 1., 1., 1., 1., 1., 1., 1., 1., 1., 1., 1., 1., 1., 1., 1.,\n",
       "       1., 1., 1., 1., 1., 1., 1., 1., 1., 1., 1., 1., 1., 1., 1., 1., 1.,\n",
       "       1., 1., 1., 1., 1., 1., 1., 1., 1., 1., 1., 1., 1., 1., 1., 1., 1.,\n",
       "       1., 1., 1., 1., 1., 1., 1., 1., 1., 1., 1., 1., 1., 1., 1., 1., 1.,\n",
       "       1., 1., 1., 1., 1., 1., 1., 1., 1., 1., 1., 1., 1., 1., 1., 1., 1.,\n",
       "       1., 1., 1., 1., 1., 1., 1., 1., 1., 1., 1., 1., 1., 1., 1., 1., 1.,\n",
       "       1., 1., 1., 1., 1., 1., 1., 1., 1., 1., 1., 1., 1., 1., 1., 1., 1.,\n",
       "       1., 1., 1., 1., 1., 1., 1., 1., 1., 1., 1., 1., 1., 1., 1., 1., 1.,\n",
       "       1., 1., 1., 1., 1., 1., 1., 1., 1., 1., 1., 1., 1., 1., 1., 1., 1.,\n",
       "       1., 1., 1., 1., 1., 1., 1., 1., 1., 1., 1., 1., 1., 1., 1., 1., 1.,\n",
       "       1., 1., 1., 1., 1., 1., 1., 1., 1., 1., 1., 1., 1., 1., 1., 1., 1.,\n",
       "       1., 1., 1., 1., 1., 1., 1., 1., 1., 1., 1., 1., 1., 1., 1., 1., 1.,\n",
       "       1., 1., 1., 1., 1., 1., 1., 1., 1., 1., 1., 1., 1., 1., 1., 1., 1.,\n",
       "       1., 1., 1., 1., 1., 1., 1., 1., 1., 1., 1., 1., 1., 1., 1., 1., 1.,\n",
       "       1., 1., 1., 1., 1., 1., 1., 1., 1., 1., 1., 1., 1., 1., 1., 1., 1.,\n",
       "       1., 1., 1., 1., 1., 1., 1., 1., 1., 1., 1., 1., 1., 1., 1., 1., 1.,\n",
       "       1., 1., 1., 1., 1., 1., 1., 1., 1., 1., 1., 1., 1., 1., 1., 1., 1.,\n",
       "       1., 1., 1., 1., 1., 1., 1., 1., 1., 1., 1., 1., 1., 1., 1., 1., 1.,\n",
       "       1., 1., 1., 1., 1., 1., 1., 1., 1., 1., 1., 1., 1., 1., 1., 1., 1.,\n",
       "       1., 1., 1., 1., 1., 1., 1., 1., 1., 1., 1., 1., 1., 1., 1., 1., 1.,\n",
       "       1., 1., 1., 1., 1., 1., 1., 1., 1., 1., 1., 1., 1., 1., 1., 1., 1.,\n",
       "       1., 1., 1., 1., 1., 1., 1., 1., 1., 1., 1., 1., 1., 1., 1., 1., 1.,\n",
       "       1., 1., 1., 1., 1., 1., 1., 1., 1., 1., 1., 1., 1., 1., 1., 1., 1.,\n",
       "       1., 1., 1., 1., 1., 1., 1., 1., 1., 1., 1., 1., 1., 1., 1., 1., 1.,\n",
       "       1., 1., 1., 1., 1., 1.])"
      ]
     },
     "execution_count": 201,
     "metadata": {},
     "output_type": "execute_result"
    }
   ],
   "source": [
    "#calulating disreate values at each w\n",
    "for i in range(499):\n",
    "    Um[i]   = u.subs(w,Wm[i]).evalf()\n",
    "    Um_[i]  = u_.subs(w,Wm[i]).evalf()\n",
    "    Um__[i] = u__.subs(w,Wm[i]).evalf()\n",
    "    Am[i]   =  A.subs(w,Wm[i]).evalf()\n",
    "    Am_[i]  =  A_.subs(w,Wm[i]).evalf()\n",
    "    Rm[i]   =  R.subs(w,Wm[i]).evalf()\n",
    "    Rm_[i]  =  R_.subs(w,Wm[i]).evalf()\n",
    "    \n",
    "Rm"
   ]
  },
  {
   "cell_type": "code",
   "execution_count": 202,
   "metadata": {},
   "outputs": [
    {
     "data": {
      "image/png": "[encoded data removed]",
      "text/plain": [
       "<Figure size 432x288 with 1 Axes>"
      ]
     },
     "metadata": {
      "needs_background": "light"
     },
     "output_type": "display_data"
    }
   ],
   "source": [
    "#plotting with matplotlib \n",
    "plt.plot(Wm,Um,color='r', label='u')\n",
    "\n",
    "\n",
    "plt.xlabel(\"w\")\n",
    "plt.ylabel(\"w\")\n",
    "#plt.title(\"u,u',u'',a,a',r,r' on same graph\")\n",
    "#plt.legend()\n",
    "plt.show()"
   ]
  },
  {
   "cell_type": "code",
   "execution_count": 203,
   "metadata": {},
   "outputs": [
    {
     "data": {
      "image/png": "[encoded data removed]",
      "text/plain": [
       "<Figure size 432x288 with 6 Axes>"
      ]
     },
     "metadata": {
      "needs_background": "light"
     },
     "output_type": "display_data"
    }
   ],
   "source": [
    "figure, axis = plt.subplots(3, 2)\n",
    "axis[0, 0].plot(Wm,Um_,color='g')\n",
    "axis[0, 0].set_title(\"u\\'\")\n",
    "  \n",
    "\n",
    "axis[0, 1].plot(Wm,Um__,color='b')\n",
    "axis[0, 1].set_title(\"u\\'\\'\")\n",
    "  \n",
    "# For Tangent Function\n",
    "axis[1, 0].plot(Wm,Am,color='c')\n",
    "axis[1, 0].set_title(\"a\")\n",
    "\n",
    "axis[1, 1].plot(Wm,Am_,color='m')\n",
    "axis[1, 1].set_title(\"a\\'\")\n",
    "\n",
    "axis[2, 0].plot(Wm,Rm,color='y')\n",
    "axis[2, 0].set_title(\"r\")\n",
    "\n",
    "axis[2, 1].plot(Wm,Rm_,color='k')\n",
    "axis[2, 1].set_title(\"r\\'\")\n",
    "  \n",
    "# Combine all the operations and display\n",
    "figure.tight_layout()\n",
    "plt.show()"
   ]
  },
  {
   "cell_type": "markdown",
   "metadata": {},
   "source": [
    "# END "
   ]
  }
 ],
 "metadata": {
  "kernelspec": {
   "display_name": "Python 3",
   "language": "python",
   "name": "python3"
  },
  "language_info": {
   "codemirror_mode": {
    "name": "ipython",
    "version": 3
   },
   "file_extension": ".py",
   "mimetype": "text/x-python",
   "name": "python",
   "nbconvert_exporter": "python",
   "pygments_lexer": "ipython3",
   "version": "3.8.3"
  }
 },
 "nbformat": 4,
 "nbformat_minor": 4
}
