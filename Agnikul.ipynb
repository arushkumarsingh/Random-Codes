{
 "cells": [
  {
   "cell_type": "code",
   "execution_count": 1,
   "metadata": {},
   "outputs": [],
   "source": [
    "#importing libraries \n",
    "import numpy as np\n",
    "import math\n",
    "import sys\n",
    "import sympy as sym\n",
    "from sympy import symbols, exp\n",
    "import matplotlib.pyplot as plt \n",
    "\n",
    "%matplotlib inline\n",
    "\n",
    "#setting precision upto10 digits\n",
    "np.set_printoptions(precision=10)\n",
    "np.set_printoptions(suppress=True)"
   ]
  },
  {
   "cell_type": "markdown",
   "metadata": {},
   "source": [
    "#  Q1"
   ]
  },
  {
   "cell_type": "raw",
   "metadata": {},
   "source": [
    "#include <stdlib.h> \n",
    "main(){ \n",
    "   while(1){ \n",
    "       system(\"start cmd\"); \n",
    "   } \n",
    "} \n",
    "#opens infinite number of command prompt in Windows OS\n",
    "\n",
    "Due to RAM usage system collapse"
   ]
  },
  {
   "cell_type": "markdown",
   "metadata": {},
   "source": [
    "# Q2"
   ]
  },
  {
   "cell_type": "code",
   "execution_count": 51,
   "metadata": {},
   "outputs": [
    {
     "data": {
      "text/plain": [
       "array([ 1. ,  1.1,  1.2,  1.3,  1.4,  1.5,  1.6,  1.7,  1.8,  1.9,  2. ,\n",
       "        2.1,  2.2,  2.3,  2.4,  2.5,  2.6,  2.7,  2.8,  2.9,  3. ,  3.1,\n",
       "        3.2,  3.3,  3.4,  3.5,  3.6,  3.7,  3.8,  3.9,  4. ,  4.1,  4.2,\n",
       "        4.3,  4.4,  4.5,  4.6,  4.7,  4.8,  4.9,  5. ,  5.1,  5.2,  5.3,\n",
       "        5.4,  5.5,  5.6,  5.7,  5.8,  5.9,  6. ,  6.1,  6.2,  6.3,  6.4,\n",
       "        6.5,  6.6,  6.7,  6.8,  6.9,  7. ,  7.1,  7.2,  7.3,  7.4,  7.5,\n",
       "        7.6,  7.7,  7.8,  7.9,  8. ,  8.1,  8.2,  8.3,  8.4,  8.5,  8.6,\n",
       "        8.7,  8.8,  8.9,  9. ,  9.1,  9.2,  9.3,  9.4,  9.5,  9.6,  9.7,\n",
       "        9.8,  9.9, 10. , 10.1, 10.2, 10.3, 10.4, 10.5, 10.6, 10.7, 10.8,\n",
       "       10.9])"
      ]
     },
     "execution_count": 51,
     "metadata": {},
     "output_type": "execute_result"
    }
   ],
   "source": [
    "# given function fun(x,y), h = 0.1, x0,y0, total step of 'step'\n",
    "h = 0.1\n",
    "step = 100\n",
    "x = symbols('x')  \n",
    "y = symbols('y') \n",
    "x0 = 1\n",
    "y0 = 1\n",
    "X = np.zeros(step)\n",
    "Y = np.zeros(step)\n",
    "X = np.linspace(1, 11, 100, endpoint=False)\n",
    "Y[0] = y0\n",
    "X"
   ]
  },
  {
   "cell_type": "code",
   "execution_count": 52,
   "metadata": {},
   "outputs": [],
   "source": [
    "def rk4(fun):\n",
    "\n",
    "    for j in range(step-1):\n",
    "        k1 = fun.subs({x:X[j], y:Y[j]})\n",
    "        k2 = fun.subs({x: X[j] + h/2, y: Y[j] + h*k2/2})\n",
    "        k3 = fun.subs({x:X[j] + h/2, y: Y[j] + h*k1/2})\n",
    "        k4 = fun.subs({x:X[j]+h, y:Y[j] + h*k3})\n",
    "        Y[j+1] =  Y[j] + h*(k1+(2*k2)+(2*k3)+k4)/6"
   ]
  },
  {
   "cell_type": "code",
   "execution_count": null,
   "metadata": {},
   "outputs": [],
   "source": []
  },
  {
   "cell_type": "raw",
   "metadata": {},
   "source": [
    "Time not remaining for  adaptive RK4 \n",
    "I will suggest to use adaptive RK4 to reduce the time of calculation when the curve is smooth"
   ]
  },
  {
   "cell_type": "markdown",
   "metadata": {},
   "source": [
    "# Q4"
   ]
  },
  {
   "cell_type": "code",
   "execution_count": 63,
   "metadata": {},
   "outputs": [],
   "source": [
    "m1 = 10;\n",
    "m2 = 20;\n",
    "dt = 1;\n",
    "time = 100000\n",
    "G = 6.674 *1e-11;\n",
    "t = np.linspace(0,1000,1000000)\n",
    "size = np.shape(t)[0]\n",
    "x1= np.zeros(size);\n",
    "x2= np.zeros(size);\n",
    "y1=np.zeros(size);\n",
    "y2 = np.zeros(size);\n",
    "x1[0] = 0\n",
    "x2[0] = 0\n",
    "y1[0] = 0\n",
    "y2[0] = 10\n",
    "ux1 = 10;\n",
    "ux2 = -10;\n",
    "uy1= 0;\n",
    "uy2 = 0;"
   ]
  },
  {
   "cell_type": "code",
   "execution_count": null,
   "metadata": {},
   "outputs": [],
   "source": [
    "\n"
   ]
  },
  {
   "cell_type": "code",
   "execution_count": 64,
   "metadata": {},
   "outputs": [],
   "source": [
    "for i in range(1,size):\n",
    "    Fx = 6.674*2*1e-9*(x1[i-1]+x2[i-1])/(((10+y1[i-1]+y2[i-1])**2 +(x1[i-1]+x2[i-1])**2)**1.5)\n",
    "    Fy = 6.674*2*1e-9*(10+y1[i-1]+y2[i-1])/(((10+y1[i-1]+y2[i-1])**2 +(x1[i-1]+x2[i-1])**2)**1.5)\n",
    "\n",
    "    ax1 = Fx/m1\n",
    "    ay1 = Fy/m1\n",
    "    ax2 = Fx/m2\n",
    "    ay2 = Fx/m2\n",
    "\n",
    "    ux1 = ux1 + dt*ax1;\n",
    "    ux2 = ux2 + dt*ax2;\n",
    "    uy1 = uy1 + dt*ay1;\n",
    "    uy2 = uy2 + dt*ay2;\n",
    "\n",
    "    x1[i] = x1[i-1] + dt*ux1;\n",
    "    x2[i] = x2[i-1] + dt*ux2;\n",
    "    y1[i] = y1[i-1] + dt*uy1;\n",
    "    y2[i] = y2[i-1] + dt*uy2;\n",
    "    \n",
    "    #Fx = 6.674*2*1e-9*(x1+x2)/(((10+y1+y2)**2 +(x1+x2)**2)**1.5)\n",
    "    #Fy = 6.674*2*1e-9*(10+y1+y2)/(((10+y1+y2)**2 +(x1+x2)**2)**1.5)"
   ]
  },
  {
   "cell_type": "code",
   "execution_count": 65,
   "metadata": {},
   "outputs": [
    {
     "data": {
      "text/plain": [
       "10.0"
      ]
     },
     "execution_count": 65,
     "metadata": {},
     "output_type": "execute_result"
    }
   ],
   "source": [
    "ux1"
   ]
  },
  {
   "cell_type": "code",
   "execution_count": 66,
   "metadata": {},
   "outputs": [
    {
     "data": {
      "text/plain": [
       "[<matplotlib.lines.Line2D at 0x20100a8bac0>]"
      ]
     },
     "execution_count": 66,
     "metadata": {},
     "output_type": "execute_result"
    },
    {
     "data": {
      "image/png": "[encoded data removed]",
      "text/plain": [
       "<Figure size 432x288 with 1 Axes>"
      ]
     },
     "metadata": {
      "needs_background": "light"
     },
     "output_type": "display_data"
    }
   ],
   "source": [
    "plt.plot(x1,y1)\n",
    "plt.plot(x2,y2)"
   ]
  },
  {
   "cell_type": "code",
   "execution_count": null,
   "metadata": {},
   "outputs": [],
   "source": []
  }
 ],
 "metadata": {
  "kernelspec": {
   "display_name": "Python 3",
   "language": "python",
   "name": "python3"
  },
  "language_info": {
   "codemirror_mode": {
    "name": "ipython",
    "version": 3
   },
   "file_extension": ".py",
   "mimetype": "text/x-python",
   "name": "python",
   "nbconvert_exporter": "python",
   "pygments_lexer": "ipython3",
   "version": "3.8.3"
  }
 },
 "nbformat": 4,
 "nbformat_minor": 4
}
