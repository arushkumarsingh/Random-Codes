{
 "cells": [
  {
   "cell_type": "code",
   "execution_count": 1,
   "metadata": {},
   "outputs": [],
   "source": [
    "#importing libraries \n",
    "import numpy as np\n",
    "import math\n",
    "import sys\n",
    "import sympy as sym\n",
    "from sympy import symbols, exp\n",
    "import matplotlib.pyplot as plt \n",
    "\n",
    "%matplotlib inline\n",
    "\n",
    "#setting precision upto 10 digits\n",
    "np.set_printoptions(precision=10)\n",
    "np.set_printoptions(suppress=True)"
   ]
  },
  {
   "cell_type": "markdown",
   "metadata": {},
   "source": [
    "# Part A"
   ]
  },
  {
   "cell_type": "code",
   "execution_count": 2,
   "metadata": {},
   "outputs": [
    {
     "name": "stdout",
     "output_type": "stream",
     "text": [
      "U: -exp(-a*w)\n",
      "U': a*exp(-a*w)\n",
      "U'': -a**2*exp(-a*w)\n",
      "A: a\n",
      "A': 0\n",
      "R: a*w\n",
      "R': a\n"
     ]
    }
   ],
   "source": [
    "#defining functions\n",
    "w = symbols('w')               #w           \n",
    "a = symbols('a')               #a\n",
    "u = (-1*sym.exp(-a*w))         #u = utility function\n",
    "u_ = sym.diff(u,w)             #u'\n",
    "u__ = sym.diff(u_,w)           #u''\n",
    "A   = -1*u__/u_                #A = absolute risk aversion\n",
    "A_  = sym.diff(A,w)            #A'\n",
    "R   = -1*w*u__/u_              #R = relative risk aversion\n",
    "R_  = sym.diff(R,w)            #R'\n",
    "print(\"U:\",u)\n",
    "print(\"U':\",u_)\n",
    "print(\"U\\'\\':\",u__)\n",
    "print(\"A:\",A)\n",
    "print(\"A\\':\",A_)\n",
    "print(\"R:\",R)\n",
    "print(\"R\\':\",R_)"
   ]
  },
  {
   "cell_type": "code",
   "execution_count": 3,
   "metadata": {},
   "outputs": [],
   "source": [
    "#input value of a \n",
    "aval  = 5"
   ]
  },
  {
   "cell_type": "code",
   "execution_count": 4,
   "metadata": {},
   "outputs": [],
   "source": [
    "#let w varies from 1 to 11, so matrix for w will be\n",
    "Wm = np.arange(0,10,0.01,dtype=float)\n",
    "#we will calculate u ,u' u'' etc at each w, thus size of matrix will be 10001 for them\n",
    "Um   = np.zeros(1000,dtype=float)              #u                  \n",
    "Um_  = np.zeros(1000,dtype=float)              #u'\n",
    "Um__ = np.zeros(1000,dtype=float)              #u''\n",
    "Am   = np.zeros(1000,dtype=float)              #A \n",
    "Am_  = np.zeros(1000,dtype=float)              #A'\n",
    "Rm   = np.zeros(1000,dtype=float)              #R \n",
    "Rm_  = np.zeros(1000,dtype=float)              #R'\n"
   ]
  },
  {
   "cell_type": "code",
   "execution_count": 5,
   "metadata": {},
   "outputs": [],
   "source": [
    "#calulating disreate values at each w\n",
    "for i in range(1000):\n",
    "    Um[i]   = u.subs({w:Wm[i],a:aval})\n",
    "    Um_[i]  = u_.subs({w:Wm[i],a:aval})\n",
    "    Um__[i] = u__.subs({w:Wm[i],a:aval})\n",
    "    Am[i]   =  A.subs({w:Wm[i],a:aval})\n",
    "    Am_[i]  =  A_.subs({w:Wm[i],a:aval})\n",
    "    Rm[i]   =  R.subs({w:Wm[i],a:aval})\n",
    "    Rm_[i]  =  R_.subs({w:Wm[i],a:aval})\n",
    "    "
   ]
  },
  {
   "cell_type": "code",
   "execution_count": 6,
   "metadata": {},
   "outputs": [
    {
     "data": {
      "image/png": "[encoded data removed]",
      "text/plain": [
       "<Figure size 432x288 with 1 Axes>"
      ]
     },
     "metadata": {
      "needs_background": "light"
     },
     "output_type": "display_data"
    }
   ],
   "source": [
    "#plotting with matplotlib \n",
    "plt.plot(Wm,Um,color='r', label='u')\n",
    "\n",
    "\n",
    "plt.xlabel(\"w\")\n",
    "plt.ylabel(\"w\")\n",
    "#plt.title(\"u,u',u'',a,a',r,r' on same graph\")\n",
    "#plt.legend()\n",
    "plt.show()"
   ]
  },
  {
   "cell_type": "code",
   "execution_count": 7,
   "metadata": {},
   "outputs": [
    {
     "data": {
      "image/png": "[encoded data removed]",
      "text/plain": [
       "<Figure size 432x288 with 6 Axes>"
      ]
     },
     "metadata": {
      "needs_background": "light"
     },
     "output_type": "display_data"
    }
   ],
   "source": [
    "figure, axis = plt.subplots(3, 2)\n",
    "axis[0, 0].plot(Wm,Um_,color='g')\n",
    "axis[0, 0].set_title(\"u\\'\")\n",
    "  \n",
    "\n",
    "axis[0, 1].plot(Wm,Um__,color='b')\n",
    "axis[0, 1].set_title(\"u\\'\\'\")\n",
    "  \n",
    "# For Tangent Function\n",
    "axis[1, 0].plot(Wm,Am,color='c')\n",
    "axis[1, 0].set_title(\"a\")\n",
    "\n",
    "axis[1, 1].plot(Wm,Am_,color='m')\n",
    "axis[1, 1].set_title(\"a\\'\")\n",
    "\n",
    "axis[2, 0].plot(Wm,Rm,color='y')\n",
    "axis[2, 0].set_title(\"r\")\n",
    "\n",
    "axis[2, 1].plot(Wm,Rm_,color='k')\n",
    "axis[2, 1].set_title(\"r\\'\")\n",
    "  \n",
    "# Combine all the operations and display\n",
    "figure.tight_layout()\n",
    "plt.show()"
   ]
  },
  {
   "cell_type": "markdown",
   "metadata": {},
   "source": [
    "# Part B"
   ]
  },
  {
   "cell_type": "code",
   "execution_count": 8,
   "metadata": {},
   "outputs": [
    {
     "name": "stdout",
     "output_type": "stream",
     "text": [
      "U: log(w)\n",
      "U': 1/w\n",
      "U'': -1/w**2\n",
      "A: 1/w\n",
      "A': -1/w**2\n",
      "R: 1\n",
      "R': 0\n"
     ]
    }
   ],
   "source": [
    "#defining functions\n",
    "w = symbols('w')               #w           \n",
    "u = (sym.log(w))               #u = utility function\n",
    "u_ = sym.diff(u,w)             #u'\n",
    "u__ = sym.diff(u_,w)           #u''\n",
    "A   = -1*u__/u_                #A = absolute risk aversion\n",
    "A_  = sym.diff(A,w)            #A'\n",
    "R   = -1*w*u__/u_              #R = relative risk aversion\n",
    "R_  = sym.diff(R,w)            #R'\n",
    "print(\"U:\",u)\n",
    "print(\"U':\",u_)\n",
    "print(\"U\\'\\':\",u__)\n",
    "print(\"A:\",A)\n",
    "print(\"A\\':\",A_)\n",
    "print(\"R:\",R)\n",
    "print(\"R\\':\",R_)"
   ]
  },
  {
   "cell_type": "code",
   "execution_count": 9,
   "metadata": {},
   "outputs": [
    {
     "data": {
      "text/plain": [
       "(499,)"
      ]
     },
     "execution_count": 9,
     "metadata": {},
     "output_type": "execute_result"
    }
   ],
   "source": [
    "#let w varies from 1 to 11, so matrix for w will be\n",
    "Wm = np.arange(0.01,5,0.01,dtype=float)\n",
    "#we will calculate u ,u' u'' etc at each w, thus size of matrix will be 10001 for them\n",
    "Um   = np.zeros(499,dtype=float)              #u                  \n",
    "Um_  = np.zeros(499,dtype=float)              #u'\n",
    "Um__ = np.zeros(499,dtype=float)              #u''\n",
    "Am   = np.zeros(499,dtype=float)              #A \n",
    "Am_  = np.zeros(499,dtype=float)              #A'\n",
    "Rm   = np.zeros(499,dtype=float)              #R \n",
    "Rm_  = np.zeros(499,dtype=float)              #R'\n",
    "Wm.shape"
   ]
  },
  {
   "cell_type": "code",
   "execution_count": 10,
   "metadata": {},
   "outputs": [],
   "source": [
    "#calulating disreate values at each w\n",
    "for i in range(499):\n",
    "    Um[i]   = u.subs(w,Wm[i]).evalf()\n",
    "    Um_[i]  = u_.subs(w,Wm[i]).evalf()\n",
    "    Um__[i] = u__.subs(w,Wm[i]).evalf()\n",
    "    Am[i]   =  A.subs(w,Wm[i]).evalf()\n",
    "    Am_[i]  =  A_.subs(w,Wm[i]).evalf()\n",
    "    Rm[i]   =  R.subs(w,Wm[i]).evalf()\n",
    "    Rm_[i]  =  R_.subs(w,Wm[i]).evalf()\n",
    "    "
   ]
  },
  {
   "cell_type": "code",
   "execution_count": 11,
   "metadata": {},
   "outputs": [
    {
     "data": {
      "image/png": "[encoded data removed]",
      "text/plain": [
       "<Figure size 432x288 with 1 Axes>"
      ]
     },
     "metadata": {
      "needs_background": "light"
     },
     "output_type": "display_data"
    }
   ],
   "source": [
    "#plotting with matplotlib \n",
    "plt.plot(Wm,Um,color='r', label='u')\n",
    "\n",
    "\n",
    "plt.xlabel(\"w\")\n",
    "plt.ylabel(\"w\")\n",
    "#plt.title(\"u,u',u'',a,a',r,r' on same graph\")\n",
    "#plt.legend()\n",
    "plt.show()"
   ]
  },
  {
   "cell_type": "code",
   "execution_count": 12,
   "metadata": {},
   "outputs": [
    {
     "data": {
      "image/png": "[encoded data removed]",
      "text/plain": [
       "<Figure size 432x288 with 6 Axes>"
      ]
     },
     "metadata": {
      "needs_background": "light"
     },
     "output_type": "display_data"
    }
   ],
   "source": [
    "figure, axis = plt.subplots(3, 2)\n",
    "axis[0, 0].plot(Wm,Um_,color='g')\n",
    "axis[0, 0].set_title(\"u\\'\")\n",
    "  \n",
    "\n",
    "axis[0, 1].plot(Wm,Um__,color='b')\n",
    "axis[0, 1].set_title(\"u\\'\\'\")\n",
    "  \n",
    "# For Tangent Function\n",
    "axis[1, 0].plot(Wm,Am,color='c')\n",
    "axis[1, 0].set_title(\"a\")\n",
    "\n",
    "axis[1, 1].plot(Wm,Am_,color='m')\n",
    "axis[1, 1].set_title(\"a\\'\")\n",
    "\n",
    "axis[2, 0].plot(Wm,Rm,color='y')\n",
    "axis[2, 0].set_title(\"r\")\n",
    "\n",
    "axis[2, 1].plot(Wm,Rm_,color='k')\n",
    "axis[2, 1].set_title(\"r\\'\")\n",
    "  \n",
    "# Combine all the operations and display\n",
    "figure.tight_layout()\n",
    "plt.show()"
   ]
  },
  {
   "cell_type": "markdown",
   "metadata": {},
   "source": [
    "# END "
   ]
  }
 ],
 "metadata": {
  "kernelspec": {
   "display_name": "Python 3",
   "language": "python",
   "name": "python3"
  },
  "language_info": {
   "codemirror_mode": {
    "name": "ipython",
    "version": 3
   },
   "file_extension": ".py",
   "mimetype": "text/x-python",
   "name": "python",
   "nbconvert_exporter": "python",
   "pygments_lexer": "ipython3",
   "version": "3.8.3"
  }
 },
 "nbformat": 4,
 "nbformat_minor": 4
}
