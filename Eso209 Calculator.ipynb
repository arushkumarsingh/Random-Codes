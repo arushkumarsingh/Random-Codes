{
 "cells": [
  {
   "cell_type": "code",
   "execution_count": 12,
   "metadata": {},
   "outputs": [],
   "source": [
    "import numpy as np\n",
    "np.set_printoptions(precision=4)\n",
    "np.set_printoptions(suppress=True)"
   ]
  },
  {
   "cell_type": "code",
   "execution_count": 13,
   "metadata": {},
   "outputs": [],
   "source": [
    "def R1(z):\n",
    "    y = np.radians(z)\n",
    "    x = np.empty([3,3])\n",
    "    x[0,0] = 1\n",
    "    x[0,1] = 0\n",
    "    x[0,2] = 0\n",
    "    x[1,0] = 0\n",
    "    x[1,1] = np.cos(y)\n",
    "    x[1,2] = -np.sin(y)\n",
    "    x[2,0] = 0\n",
    "    x[2,1] = np.sin(y)\n",
    "    x[2,2] = np.cos(y)\n",
    "    return x\n",
    "\n",
    "def R2(z):\n",
    "    y = np.radians(z)\n",
    "    x = np.empty([3,3])\n",
    "    x[0,0] = np.cos(y)\n",
    "    x[0,1] = 0\n",
    "    x[0,2] = np.sin(y)\n",
    "    x[1,0] = 0\n",
    "    x[1,1] = 1\n",
    "    x[1,2] = 0\n",
    "    x[2,0] = -np.sin(y)\n",
    "    x[2,1] = 0\n",
    "    x[2,2] = np.cos(y)\n",
    "    return x\n",
    "\n",
    "def R3(z):\n",
    "    y = np.radians(z)\n",
    "    x = np.empty([3,3])\n",
    "    x[0,0] = np.cos(y)\n",
    "    x[0,1] = -np.sin(y)\n",
    "    x[0,2] = 0\n",
    "    x[1,0] = np.sin(y)\n",
    "    x[1,1] = np.cos(y)\n",
    "    x[1,2] = 0\n",
    "    x[2,0] = 0\n",
    "    x[2,1] = 0\n",
    "    x[2,2] = 1\n",
    "    return x\n",
    "def A(r1,r2):\n",
    "    return np.matmul(r1,r2)\n",
    "def tr(r1):\n",
    "    return np.trace(r1)"
   ]
  },
  {
   "cell_type": "code",
   "execution_count": 14,
   "metadata": {},
   "outputs": [
    {
     "data": {
      "text/plain": [
       "array([[ 1.   ,  0.   ,  0.   ],\n",
       "       [ 0.   ,  0.866, -0.5  ],\n",
       "       [ 0.   ,  0.5  ,  0.866]])"
      ]
     },
     "execution_count": 14,
     "metadata": {},
     "output_type": "execute_result"
    }
   ],
   "source": [
    "R1(30)"
   ]
  },
  {
   "cell_type": "code",
   "execution_count": 15,
   "metadata": {},
   "outputs": [
    {
     "data": {
      "text/plain": [
       "6.123233995736766e-17"
      ]
     },
     "execution_count": 15,
     "metadata": {},
     "output_type": "execute_result"
    }
   ],
   "source": [
    "np.cos(np.pi/2)"
   ]
  },
  {
   "cell_type": "code",
   "execution_count": 16,
   "metadata": {},
   "outputs": [
    {
     "data": {
      "text/plain": [
       "array([[ 1.   ,  0.   ,  0.   ],\n",
       "       [ 0.   ,  0.866, -0.5  ],\n",
       "       [ 0.   ,  0.5  ,  0.866]])"
      ]
     },
     "execution_count": 16,
     "metadata": {},
     "output_type": "execute_result"
    }
   ],
   "source": [
    "r1 = R1(30)\n",
    "r1\n",
    "\n"
   ]
  },
  {
   "cell_type": "code",
   "execution_count": 17,
   "metadata": {},
   "outputs": [
    {
     "data": {
      "text/plain": [
       "array([[ 0.866,  0.   ,  0.5  ],\n",
       "       [ 0.   ,  1.   ,  0.   ],\n",
       "       [-0.5  ,  0.   ,  0.866]])"
      ]
     },
     "execution_count": 17,
     "metadata": {},
     "output_type": "execute_result"
    }
   ],
   "source": [
    "r2 = R2(30)\n",
    "r2"
   ]
  },
  {
   "cell_type": "code",
   "execution_count": 18,
   "metadata": {},
   "outputs": [
    {
     "data": {
      "text/plain": [
       "array([[ 0.866, -0.5  ,  0.   ],\n",
       "       [ 0.5  ,  0.866,  0.   ],\n",
       "       [ 0.   ,  0.   ,  1.   ]])"
      ]
     },
     "execution_count": 18,
     "metadata": {},
     "output_type": "execute_result"
    }
   ],
   "source": [
    "r3 = R3(30)\n",
    "r3"
   ]
  },
  {
   "cell_type": "code",
   "execution_count": 19,
   "metadata": {},
   "outputs": [
    {
     "data": {
      "text/plain": [
       "(array([[ 1.   ,  0.   ,  0.   ],\n",
       "        [ 0.   ,  0.866, -0.5  ],\n",
       "        [ 0.   ,  0.5  ,  0.866]]),\n",
       " array([[ 0.866,  0.   ,  0.5  ],\n",
       "        [ 0.   ,  1.   ,  0.   ],\n",
       "        [-0.5  ,  0.   ,  0.866]]),\n",
       " array([[ 0.866, -0.5  ,  0.   ],\n",
       "        [ 0.5  ,  0.866,  0.   ],\n",
       "        [ 0.   ,  0.   ,  1.   ]]))"
      ]
     },
     "execution_count": 19,
     "metadata": {},
     "output_type": "execute_result"
    }
   ],
   "source": [
    "R1(30),R2(30),R3(30)"
   ]
  },
  {
   "cell_type": "code",
   "execution_count": 20,
   "metadata": {},
   "outputs": [
    {
     "data": {
      "text/plain": [
       "array([[ 0.866,  0.   ,  0.5  ],\n",
       "       [ 0.25 ,  0.866, -0.433],\n",
       "       [-0.433,  0.5  ,  0.75 ]])"
      ]
     },
     "execution_count": 20,
     "metadata": {},
     "output_type": "execute_result"
    }
   ],
   "source": [
    "r8 = A(r1,r2)\n",
    "r8"
   ]
  },
  {
   "cell_type": "code",
   "execution_count": 21,
   "metadata": {},
   "outputs": [
    {
     "data": {
      "text/plain": [
       "2.4820508075688776"
      ]
     },
     "execution_count": 21,
     "metadata": {},
     "output_type": "execute_result"
    }
   ],
   "source": [
    "tr(r8)"
   ]
  },
  {
   "cell_type": "markdown",
   "metadata": {},
   "source": [
    "# Exam"
   ]
  },
  {
   "cell_type": "code",
   "execution_count": 22,
   "metadata": {},
   "outputs": [],
   "source": [
    "c = np.array([[11,4,0],[4,5,0],[0,0,7]])"
   ]
  },
  {
   "cell_type": "code",
   "execution_count": 23,
   "metadata": {},
   "outputs": [
    {
     "data": {
      "text/plain": [
       "array([[11.    ,  3.4641,  2.    ],\n",
       "       [ 3.4641,  5.5   , -0.866 ],\n",
       "       [ 2.    , -0.866 ,  6.5   ]])"
      ]
     },
     "execution_count": 23,
     "metadata": {},
     "output_type": "execute_result"
    }
   ],
   "source": [
    "r1@c@np.transpose(r1)"
   ]
  },
  {
   "cell_type": "code",
   "execution_count": null,
   "metadata": {},
   "outputs": [],
   "source": []
  },
  {
   "cell_type": "code",
   "execution_count": null,
   "metadata": {},
   "outputs": [],
   "source": []
  },
  {
   "cell_type": "code",
   "execution_count": null,
   "metadata": {},
   "outputs": [],
   "source": []
  },
  {
   "cell_type": "code",
   "execution_count": null,
   "metadata": {},
   "outputs": [],
   "source": []
  },
  {
   "cell_type": "code",
   "execution_count": null,
   "metadata": {},
   "outputs": [],
   "source": []
  },
  {
   "cell_type": "code",
   "execution_count": null,
   "metadata": {},
   "outputs": [],
   "source": []
  },
  {
   "cell_type": "code",
   "execution_count": null,
   "metadata": {},
   "outputs": [],
   "source": []
  },
  {
   "cell_type": "code",
   "execution_count": null,
   "metadata": {},
   "outputs": [],
   "source": []
  },
  {
   "cell_type": "code",
   "execution_count": null,
   "metadata": {},
   "outputs": [],
   "source": []
  },
  {
   "cell_type": "code",
   "execution_count": null,
   "metadata": {},
   "outputs": [],
   "source": []
  },
  {
   "cell_type": "code",
   "execution_count": null,
   "metadata": {},
   "outputs": [],
   "source": []
  },
  {
   "cell_type": "code",
   "execution_count": null,
   "metadata": {},
   "outputs": [],
   "source": []
  }
 ],
 "metadata": {
  "kernelspec": {
   "display_name": "Python 3",
   "language": "python",
   "name": "python3"
  },
  "language_info": {
   "codemirror_mode": {
    "name": "ipython",
    "version": 3
   },
   "file_extension": ".py",
   "mimetype": "text/x-python",
   "name": "python",
   "nbconvert_exporter": "python",
   "pygments_lexer": "ipython3",
   "version": "3.8.3"
  }
 },
 "nbformat": 4,
 "nbformat_minor": 4
}
